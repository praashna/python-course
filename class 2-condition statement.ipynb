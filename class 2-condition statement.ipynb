{
 "cells": [
  {
   "cell_type": "code",
   "execution_count": 1,
   "id": "526dc30d",
   "metadata": {},
   "outputs": [],
   "source": [
    "# marks = 90\n",
    "# if marks>80:\n",
    "#     print(\"graded O\")\n",
    "# elif marks<80:\n",
    "#     print(\"graded E\")\n"
   ]
  },
  {
   "cell_type": "code",
   "execution_count": 5,
   "id": "153697bb",
   "metadata": {},
   "outputs": [
    {
     "name": "stdout",
     "output_type": "stream",
     "text": [
      "False\n",
      "True\n",
      "False\n",
      "True\n"
     ]
    }
   ],
   "source": [
    "a=10\n",
    "b=20\n",
    "print(a<0)\n",
    "print(a>0)\n",
    "print(a>=b)\n",
    "print(a!=b)"
   ]
  },
  {
   "cell_type": "code",
   "execution_count": 8,
   "id": "8630cbff",
   "metadata": {},
   "outputs": [
    {
     "name": "stdout",
     "output_type": "stream",
     "text": [
      "enter a= 3\n",
      "3  is odd\n"
     ]
    }
   ],
   "source": [
    "a= int(input(\"enter a= \"))\n",
    "if a%2==0:\n",
    "    print(a, 'is even')\n",
    "else:\n",
    "    print(a,\" is odd\")"
   ]
  },
  {
   "cell_type": "code",
   "execution_count": 10,
   "id": "73a40d6d",
   "metadata": {},
   "outputs": [
    {
     "name": "stdout",
     "output_type": "stream",
     "text": [
      "ENTER a=2\n",
      "ENTER b=3\n",
      "a is smaller than b\n"
     ]
    }
   ],
   "source": [
    "a= int(input('ENTER a='))\n",
    "b= int(input('ENTER b='))\n",
    "if a>b:\n",
    "    print('a is greater than b')\n",
    "elif a<b:\n",
    "    print(\"a is smaller than b\")\n",
    "else:\n",
    "    print(\"a and b are equal\")    \n"
   ]
  },
  {
   "cell_type": "code",
   "execution_count": 4,
   "id": "f1410957",
   "metadata": {},
   "outputs": [
    {
     "name": "stdout",
     "output_type": "stream",
     "text": [
      "enter physics marks 90\n",
      "enter chem marks 90\n",
      "enter maths marks 90\n",
      "enter eng marks 90\n",
      "total = 360\n",
      "per = 90.0\n",
      "Grade = A\n"
     ]
    }
   ],
   "source": [
    "physics = int(input(\"enter physics marks \"))\n",
    "chem = int(input(\"enter chem marks \"))\n",
    "maths = int(input(\"enter maths marks \"))\n",
    "eng = int(input(\"enter eng marks \"))\n",
    "\n",
    "total= physics+chem+maths+eng\n",
    "per= total/4\n",
    "\n",
    "if per>80 or per== 80:\n",
    "    grade='A'\n",
    "elif per>=60:\n",
    "    grade= \"B\"\n",
    "elif per>=90:\n",
    "    grade= \"A+\"\n",
    "elif per>= 45:\n",
    "    grade= \"C\"\n",
    "else:\n",
    "    failed\n",
    "    \n",
    "print(\"total =\", total)\n",
    "print(\"per =\", per)\n",
    "print(\"Grade =\", grade)\n",
    "\n"
   ]
  },
  {
   "cell_type": "code",
   "execution_count": 3,
   "id": "fa5172ee",
   "metadata": {},
   "outputs": [
    {
     "name": "stdout",
     "output_type": "stream",
     "text": [
      "enter a= 20\n",
      "enter b= 0\n",
      "enter o= /\n",
      "The value of b cannot be 0\n"
     ]
    }
   ],
   "source": [
    "a= int(input(\"enter a= \"))\n",
    "b= int(input(\"enter b= \"))\n",
    "o= (input(\"enter o= \")) #operator\n",
    "\n",
    "if o == '+':\n",
    "    print(a+b)\n",
    "elif o == \"-\":\n",
    "    print(a-b)\n",
    "elif o == \"*\":\n",
    "    print(a*b)\n",
    "elif o == \"/\" and b!=0:\n",
    "    print(a/b)\n",
    "elif o == \"/\" and b == 0:\n",
    "    print(\"The value of b cannot be 0\")\n",
    "else:\n",
    "    print(\"Please enter valid operator\")"
   ]
  },
  {
   "cell_type": "code",
   "execution_count": 6,
   "id": "933719cd",
   "metadata": {},
   "outputs": [
    {
     "name": "stdout",
     "output_type": "stream",
     "text": [
      "enter a= -2\n",
      "a is not poitive \n"
     ]
    }
   ],
   "source": [
    "#nested\n",
    "a= int(input(\"enter a= \"))\n",
    "if a>0:\n",
    "    if a%2 == 0:\n",
    "        print(\"a is e positive and even\")\n",
    "    else:\n",
    "        print(\"a is positive but not even\")\n",
    "        \n",
    "else:\n",
    "    print(\"a is not poitive \")"
   ]
  },
  {
   "cell_type": "code",
   "execution_count": 8,
   "id": "5de3f3b1",
   "metadata": {},
   "outputs": [
    {
     "name": "stdout",
     "output_type": "stream",
     "text": [
      "enter a= 90\n",
      "enter b= 0\n",
      "enter o= /\n",
      "The value of b cannot be 0\n"
     ]
    }
   ],
   "source": [
    "a= int(input(\"enter a= \"))\n",
    "b= int(input(\"enter b= \"))\n",
    "o= (input(\"enter o= \")) #operator\n",
    "\n",
    "if o == '+':\n",
    "    print(a+b)\n",
    "elif o == \"-\":\n",
    "    print(a-b)\n",
    "elif o == \"*\":\n",
    "    print(a*b)\n",
    "elif o == \"/\":\n",
    "    if b != 0:\n",
    "        print(a/b)\n",
    "    else:\n",
    "        print(\"The value of b cannot be 0\")\n",
    "else:\n",
    "    print(\"Please enter valid operator\")"
   ]
  },
  {
   "cell_type": "code",
   "execution_count": null,
   "id": "c7bbe825",
   "metadata": {},
   "outputs": [],
   "source": [
    "if "
   ]
  }
 ],
 "metadata": {
  "kernelspec": {
   "display_name": "Python 3 (ipykernel)",
   "language": "python",
   "name": "python3"
  },
  "language_info": {
   "codemirror_mode": {
    "name": "ipython",
    "version": 3
   },
   "file_extension": ".py",
   "mimetype": "text/x-python",
   "name": "python",
   "nbconvert_exporter": "python",
   "pygments_lexer": "ipython3",
   "version": "3.9.12"
  }
 },
 "nbformat": 4,
 "nbformat_minor": 5
}
