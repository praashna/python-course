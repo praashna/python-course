{
 "cells": [
  {
   "cell_type": "code",
   "execution_count": null,
   "id": "4a8287fa",
   "metadata": {},
   "outputs": [],
   "source": [
    "# Dictionary : key value pairs\n",
    "# -Indexed\n",
    "# -Multiiple and duplicate value\n",
    "# -Ordered\n",
    "# -Mutable"
   ]
  },
  {
   "cell_type": "code",
   "execution_count": 1,
   "id": "4da5a11a",
   "metadata": {},
   "outputs": [
    {
     "name": "stdout",
     "output_type": "stream",
     "text": [
      "{'a': 'Apple', 'b': 'Ball', 'c': 'Cat'}\n",
      "<class 'dict'>\n"
     ]
    }
   ],
   "source": [
    "# d = {<key>:<value>, <key>:<value>,.....}\n",
    "d = {'a':'Apple', 'b':'Ball','c':'Cat'}\n",
    "print(d)\n",
    "print(type(d))"
   ]
  },
  {
   "cell_type": "code",
   "execution_count": 6,
   "id": "157d5f87",
   "metadata": {},
   "outputs": [
    {
     "name": "stdout",
     "output_type": "stream",
     "text": [
      "Ram\n",
      "22\n",
      "KTM\n"
     ]
    }
   ],
   "source": [
    "info = {'name':'Ram','Age':22,'Addr':'KTM'}\n",
    "print(info['name'])\n",
    "print(info['Age'])\n",
    "print(info['Addr'])"
   ]
  },
  {
   "cell_type": "code",
   "execution_count": 8,
   "id": "3847d8c3",
   "metadata": {},
   "outputs": [
    {
     "name": "stdout",
     "output_type": "stream",
     "text": [
      "{'a': 'Apple', 'b': 'Ball', 'c': 'Cat'}\n"
     ]
    }
   ],
   "source": [
    "d = {'a':'Apple', 'b':'Ball','c':'Cat','A':'Apple'} #Unique key but multiple and duplicate <<<value>>>\n",
    "print(d)\n"
   ]
  },
  {
   "cell_type": "code",
   "execution_count": 9,
   "id": "6dd027b4",
   "metadata": {},
   "outputs": [
    {
     "name": "stdout",
     "output_type": "stream",
     "text": [
      "{'a': 'Apple', 'b': 'Ball', 'c': 'Cat'}\n"
     ]
    }
   ],
   "source": [
    "# d = dict()\n",
    "d = {}\n",
    "d['a'] = 'Apple'\n",
    "d['b'] = 'Ball'\n",
    "d['c'] = 'Cat'\n",
    "print(d)"
   ]
  },
  {
   "cell_type": "code",
   "execution_count": 13,
   "id": "dbeb9137",
   "metadata": {},
   "outputs": [
    {
     "name": "stdout",
     "output_type": "stream",
     "text": [
      "Enter n = 2\n",
      "Enter name= Ram\n",
      "Enter phn no= 98783293749\n",
      "Enter name= Hari\n",
      "Enter phn no= 987665755666\n",
      "{98783293749: 'Ram', 987665755666: 'Hari'}\n"
     ]
    }
   ],
   "source": [
    "info = dict()\n",
    "n = int(input(\"Enter n = \"))\n",
    "for i in range(n):\n",
    "    name = input(\"Enter name= \")\n",
    "    phn = int(input(\"Enter phn no= \"))\n",
    "    info[phn] = name\n",
    "    \n",
    "print(info)"
   ]
  },
  {
   "cell_type": "code",
   "execution_count": 14,
   "id": "b4fcf474",
   "metadata": {},
   "outputs": [
    {
     "name": "stdout",
     "output_type": "stream",
     "text": [
      "98783293749\n",
      "987665755666\n"
     ]
    }
   ],
   "source": [
    "a = {98783293749: 'Ram', 987665755666: 'Hari'}  #key\n",
    "for i in (a):\n",
    "    print(i)"
   ]
  },
  {
   "cell_type": "code",
   "execution_count": 15,
   "id": "71325a8c",
   "metadata": {},
   "outputs": [
    {
     "name": "stdout",
     "output_type": "stream",
     "text": [
      "Ram\n",
      "Hari\n"
     ]
    }
   ],
   "source": [
    "a = {98783293749: 'Ram', 987665755666: 'Hari'}\n",
    "for i in a.values():\n",
    "    print(i)  #values"
   ]
  },
  {
   "cell_type": "code",
   "execution_count": 16,
   "id": "1c698cb3",
   "metadata": {},
   "outputs": [
    {
     "name": "stdout",
     "output_type": "stream",
     "text": [
      "(98783293749, 'Ram')\n",
      "(987665755666, 'Hari')\n"
     ]
    }
   ],
   "source": [
    "a = {98783293749: 'Ram', 987665755666: 'Hari'}\n",
    "for i in a.items():\n",
    "    print(i)  #both"
   ]
  },
  {
   "cell_type": "code",
   "execution_count": 18,
   "id": "e0b6c7b4",
   "metadata": {},
   "outputs": [
    {
     "name": "stdout",
     "output_type": "stream",
     "text": [
      "[(98783293749, 'Ram'), (987665755666, 'Hari')]\n"
     ]
    }
   ],
   "source": [
    "l = []\n",
    "a = {98783293749: 'Ram', 987665755666: 'Hari'}\n",
    "for i in a.items():\n",
    "    l.append(i)\n",
    "\n",
    "print(l)  #tupple inside list"
   ]
  },
  {
   "cell_type": "code",
   "execution_count": 19,
   "id": "dbdc143e",
   "metadata": {},
   "outputs": [
    {
     "data": {
      "text/plain": [
       "{98783293749: 'Ram', 987665755666: 'Hari'}"
      ]
     },
     "execution_count": 19,
     "metadata": {},
     "output_type": "execute_result"
    }
   ],
   "source": [
    "dict(l) "
   ]
  },
  {
   "cell_type": "code",
   "execution_count": 20,
   "id": "6899e166",
   "metadata": {},
   "outputs": [
    {
     "name": "stdout",
     "output_type": "stream",
     "text": [
      "{'Ram': 9876554433, 'Shyam': 9887765443, 'Hari': 98087654567}\n"
     ]
    }
   ],
   "source": [
    "#  No + * operator\n",
    "d = {'Ram':9876554433,'Shyam':9887765443}\n",
    "a = {'Hari':98087654567}\n",
    "d.update(a)\n",
    "print(d)"
   ]
  },
  {
   "cell_type": "code",
   "execution_count": 21,
   "id": "8f4c1c32",
   "metadata": {},
   "outputs": [
    {
     "data": {
      "text/plain": [
       "{'Ram': 980000000000, 'Shyam': 9887765443, 'Hari': 98087654567}"
      ]
     },
     "execution_count": 21,
     "metadata": {},
     "output_type": "execute_result"
    }
   ],
   "source": [
    "a = {'Ram': 9876554433, 'Shyam': 9887765443, 'Hari': 98087654567}\n",
    "a['Ram'] = 980000000000\n",
    "a"
   ]
  },
  {
   "cell_type": "code",
   "execution_count": 22,
   "id": "39413eab",
   "metadata": {},
   "outputs": [
    {
     "name": "stdout",
     "output_type": "stream",
     "text": [
      "{'Ram': [9876554433, 98777777777], 'Shyam': [9887765443, 98888888888], 'Hari': [98087654567, 9876554444]}\n"
     ]
    }
   ],
   "source": [
    "# list inside dictionary\n",
    "\n",
    "a = {'Ram': [9876554433,98777777777], 'Shyam': [9887765443,98888888888], 'Hari': [98087654567,9876554444]}\n",
    "print(a)"
   ]
  },
  {
   "cell_type": "code",
   "execution_count": 24,
   "id": "68b0cbb8",
   "metadata": {},
   "outputs": [
    {
     "name": "stdout",
     "output_type": "stream",
     "text": [
      "Enter n = 2\n",
      "Enter name= Ram\n",
      "Enter ntc phn no= 9867388392\n",
      "Enter ncell phn no= 980637836\n",
      "Enter name= Hari\n",
      "Enter ntc phn no= 987678997\n",
      "Enter ncell phn no= 9807654457\n",
      "{'Ram': [9867388392, 980637836], 'Hari': [987678997, 9807654457]}\n"
     ]
    }
   ],
   "source": [
    "info = {}\n",
    "n = int(input(\"Enter n = \"))\n",
    "for i in range(n):\n",
    "    name = input(\"Enter name= \")\n",
    "    ntc = int(input(\"Enter ntc phn no= \"))\n",
    "    ncell = int(input(\"Enter ncell phn no= \"))\n",
    "    info[name] = [ntc,ncell]  #list inside dict\n",
    "print(info)\n",
    "    \n",
    "    "
   ]
  },
  {
   "cell_type": "code",
   "execution_count": 28,
   "id": "2cafb19f",
   "metadata": {},
   "outputs": [
    {
     "name": "stdout",
     "output_type": "stream",
     "text": [
      "Enter n = 3\n",
      "Enter name= Ram\n",
      "Enter age= 12\n",
      "Enter addr= KTM\n",
      "Enter name= Hari\n",
      "Enter age= 77\n",
      "Enter addr= KTM\n",
      "Enter name= Shyam\n",
      "Enter age= 66\n",
      "Enter addr= PKR\n",
      "{'name': ['Ram', 'Hari', 'Shyam'], 'age': [12, 77, 66], 'addr': ['KTM', 'KTM', 'PKR']}\n"
     ]
    }
   ],
   "source": [
    "# data = {'Name':['Ram','Shyam','Hari'],\n",
    "#        'Age':[20,30,40],\n",
    "#        'Addr':['KTM','PKR','BRT']}\n",
    "\n",
    "info = {'name':[],'age':[],\"addr\":[]}\n",
    "n = int(input(\"Enter n = \"))\n",
    "for i in range(n):\n",
    "    name = input(\"Enter name= \")\n",
    "    age = int(input(\"Enter age= \"))\n",
    "    addr = input(\"Enter addr= \")\n",
    "    info['name'].append(name)\n",
    "    info['age'].append(age)\n",
    "    info['addr'].append(addr)\n",
    "    \n",
    "print(info)\n",
    "    "
   ]
  },
  {
   "cell_type": "code",
   "execution_count": 32,
   "id": "3e851702",
   "metadata": {},
   "outputs": [
    {
     "name": "stdout",
     "output_type": "stream",
     "text": [
      "{'name': ['Ram', 'Hari', 'Shyam', 'ppppp'], 'age': [12, 77, 66, 22], 'addr': ['KTM', 'KTM', 'PKR', 'jjj']}\n"
     ]
    }
   ],
   "source": [
    "a = {'name': ['Ram', 'Hari', 'Shyam'], 'age': [12, 77, 66], 'addr': ['KTM', 'KTM', 'PKR']}\n",
    "a['name'].append('ppppp')\n",
    "a['age'].append(22)\n",
    "a[\"addr\"].append('jjj')\n",
    "print(a)"
   ]
  },
  {
   "cell_type": "code",
   "execution_count": 35,
   "id": "2eae9a2b",
   "metadata": {},
   "outputs": [
    {
     "data": {
      "text/plain": [
       "{'name': ['Ram', 'Hari', 'Shyam'], 'age': [12, 77, 66]}"
      ]
     },
     "execution_count": 35,
     "metadata": {},
     "output_type": "execute_result"
    }
   ],
   "source": [
    "d = {'name': ['Ram', 'Hari', 'Shyam'], 'age': [12, 77, 66], 'addr': ['KTM', 'KTM', 'PKR']}\n",
    "del d['addr']\n",
    "d"
   ]
  },
  {
   "cell_type": "code",
   "execution_count": 40,
   "id": "906c5069",
   "metadata": {},
   "outputs": [
    {
     "data": {
      "text/plain": [
       "{'name': ['Hari', 'Shyam'], 'age': [77, 66], 'addr': ['KTM', 'PKR']}"
      ]
     },
     "execution_count": 40,
     "metadata": {},
     "output_type": "execute_result"
    }
   ],
   "source": [
    "a = {'name': ['Ram', 'Hari', 'Shyam'], 'age': [12, 77, 66], 'addr': ['KTM', 'KTM', 'PKR']}\n",
    "del a['name'][0]\n",
    "del a['age'][0]\n",
    "del a['addr'][0]\n",
    "\n",
    "a"
   ]
  },
  {
   "cell_type": "code",
   "execution_count": 45,
   "id": "312aa64c",
   "metadata": {},
   "outputs": [
    {
     "data": {
      "text/plain": [
       "{'name': ['Ram', 'Hari', 'Shyam'],\n",
       " 'age': [12, 77, 66],\n",
       " 'addr': ['Jhapa', 'KTM', 'PKR']}"
      ]
     },
     "execution_count": 45,
     "metadata": {},
     "output_type": "execute_result"
    }
   ],
   "source": [
    "a = {'name': ['Ram', 'Hari', 'Shyam'], 'age': [12, 77, 66], 'addr': ['KTM', 'KTM', 'PKR']}\n",
    "a['addr'][0] = 'Jhapa'\n",
    "a\n"
   ]
  },
  {
   "cell_type": "code",
   "execution_count": 4,
   "id": "641fe338",
   "metadata": {},
   "outputs": [
    {
     "name": "stdout",
     "output_type": "stream",
     "text": [
      "Apple is a fruit\n"
     ]
    }
   ],
   "source": [
    "d = {}\n",
    "d['apple'] = 'Apple is a fruit'\n",
    "d['orange'] = 'orange is a fruit'\n",
    "d['cat'] = 'cat is an animal'\n",
    "\n",
    "print(d.get('apple'))"
   ]
  },
  {
   "cell_type": "code",
   "execution_count": 5,
   "id": "6005f948",
   "metadata": {},
   "outputs": [
    {
     "name": "stdout",
     "output_type": "stream",
     "text": [
      "enter n = 2\n",
      "enter key = cat\n",
      "cat is an animal\n",
      "enter key = ball\n",
      "key doesn't exist\n"
     ]
    }
   ],
   "source": [
    "d = {}\n",
    "d['apple'] = 'Apple is a fruit'\n",
    "d['orange'] = 'orange is a fruit'\n",
    "d['cat'] = 'cat is an animal'\n",
    "\n",
    "n = int(input('enter n = '))\n",
    "\n",
    "for i in range(n):\n",
    "    k =input(\"enter key = \")\n",
    "    print(d.get(k,\"key doesn't exist\"))"
   ]
  },
  {
   "cell_type": "code",
   "execution_count": 16,
   "id": "774a6aba",
   "metadata": {},
   "outputs": [
    {
     "name": "stdout",
     "output_type": "stream",
     "text": [
      "['apple', 'orange', 'cat']\n",
      "['Apple is a fruit', 'orange is a fruit', 'cat is an animal']\n"
     ]
    }
   ],
   "source": [
    "# list of keys\n",
    "listofkey = list(d.keys())\n",
    "print(listofkey)\n",
    "\n",
    "listofvalue = list(d.values())\n",
    "print(listofvalue)"
   ]
  },
  {
   "cell_type": "code",
   "execution_count": null,
   "id": "22113e8b",
   "metadata": {},
   "outputs": [],
   "source": [
    "# {'name': ['Ram', 'Hari', 'Shyam'],\n",
    "#  'age': [12, 77, 66],\n",
    "#  'addr': ['Jhapa', 'KTM', 'PKR']}"
   ]
  },
  {
   "cell_type": "code",
   "execution_count": 2,
   "id": "7e911f77",
   "metadata": {},
   "outputs": [
    {
     "name": "stdout",
     "output_type": "stream",
     "text": [
      "enter n 2\n",
      "Enter name= jjj\n",
      "Enter age= 3\n",
      "Enter addr= fcff\n",
      "Enter name= dddd\n",
      "Enter age= 3\n",
      "Enter addr= fff\n"
     ]
    },
    {
     "data": {
      "text/plain": [
       "[{'name': 'jjj', 'age': 3, 'addr': 'fcff'},\n",
       " {'name': 'dddd', 'age': 3, 'addr': 'fff'}]"
      ]
     },
     "execution_count": 2,
     "metadata": {},
     "output_type": "execute_result"
    }
   ],
   "source": [
    "# dict inside list\n",
    "data = []\n",
    "n = int(input(\"enter n \"))\n",
    "for i in range(n):\n",
    "    name = input(\"Enter name= \")\n",
    "    age = int(input(\"Enter age= \"))\n",
    "    addr = input(\"Enter addr= \")\n",
    "    info = {\"name\":name,'age':age,\"addr\":addr}\n",
    "    data.append(info)\n",
    "data\n",
    "    "
   ]
  },
  {
   "cell_type": "code",
   "execution_count": 5,
   "id": "d766f944",
   "metadata": {},
   "outputs": [
    {
     "data": {
      "text/plain": [
       "[{'name': 'jjj', 'age': 3, 'addr': 'fcff'},\n",
       " {'name': 'RAM', 'age': 3, 'addr': 'fff'}]"
      ]
     },
     "execution_count": 5,
     "metadata": {},
     "output_type": "execute_result"
    }
   ],
   "source": [
    "data[1]['name'] = 'RAM'\n",
    "data"
   ]
  },
  {
   "cell_type": "code",
   "execution_count": null,
   "id": "0ffa3585",
   "metadata": {},
   "outputs": [],
   "source": [
    "# # dict inside dict\n",
    "\n",
    "# info = {1:{'name': 'jjj', 'age': 3, 'addr': 'fcff'},\n",
    "#        2:{'name': 'RAM', 'age': 3, 'addr': 'fff'}}\n"
   ]
  },
  {
   "cell_type": "code",
   "execution_count": 12,
   "id": "f518c1a3",
   "metadata": {},
   "outputs": [
    {
     "name": "stdout",
     "output_type": "stream",
     "text": [
      "enter n= 2\n",
      "Enter name= ram\n",
      "Enter age= 33\n",
      "Enter addr= ktm\n",
      "Enter name= hari\n",
      "Enter age= 44\n",
      "Enter addr= pkr\n"
     ]
    },
    {
     "data": {
      "text/plain": [
       "{1: {'name': 'ram', 'age': 33, 'addr': 'ktm'},\n",
       " 2: {'name': 'hari', 'age': 44, 'addr': 'pkr'}}"
      ]
     },
     "execution_count": 12,
     "metadata": {},
     "output_type": "execute_result"
    }
   ],
   "source": [
    "# dict inside dict\n",
    "\n",
    "data = {}\n",
    "n = int(input(\"enter n= \"))\n",
    "for i in range(1,n+1):\n",
    "    name = input(\"Enter name= \")\n",
    "    age = int(input(\"Enter age= \"))\n",
    "    addr = input(\"Enter addr= \")\n",
    "    info = {\"name\":name,'age':age,\"addr\":addr}\n",
    "    data[i] = info\n",
    "data\n",
    "    "
   ]
  },
  {
   "cell_type": "code",
   "execution_count": 7,
   "id": "0764e466",
   "metadata": {},
   "outputs": [
    {
     "data": {
      "text/plain": [
       "{'name': 'ram', 'age': 22, 'addr': 'ktm'}"
      ]
     },
     "execution_count": 7,
     "metadata": {},
     "output_type": "execute_result"
    }
   ],
   "source": [
    "# data[1]"
   ]
  },
  {
   "cell_type": "code",
   "execution_count": 8,
   "id": "f3b8ece9",
   "metadata": {},
   "outputs": [
    {
     "data": {
      "text/plain": [
       "{2: {'name': 'hari', 'age': 33, 'addr': 'pkr'}}"
      ]
     },
     "execution_count": 8,
     "metadata": {},
     "output_type": "execute_result"
    }
   ],
   "source": [
    "# del data[1]\n",
    "# data"
   ]
  },
  {
   "cell_type": "code",
   "execution_count": 16,
   "id": "483b0741",
   "metadata": {},
   "outputs": [
    {
     "data": {
      "text/plain": [
       "{1: {'name': 'ram', 'age': 33, 'addr': 'ktm'},\n",
       " 2: {'name': 'hari', 'age': 44, 'addr': 'pkr'}}"
      ]
     },
     "execution_count": 16,
     "metadata": {},
     "output_type": "execute_result"
    }
   ],
   "source": [
    "data"
   ]
  },
  {
   "cell_type": "code",
   "execution_count": 19,
   "id": "6fe85163",
   "metadata": {},
   "outputs": [
    {
     "name": "stdout",
     "output_type": "stream",
     "text": [
      "{1: {'name': 'ram', 'age': 33, 'addr': 'ktm'}, 2: {'name': 'hari', 'age': 44, 'addr': 'pkr'}, 3: {'name': 'nabin', 'age': 22, 'addr': 'chitwan'}}\n"
     ]
    }
   ],
   "source": [
    "data[3] = {'name':'nabin','age':22,'addr':'chitwan'}\n",
    "print(data)"
   ]
  },
  {
   "cell_type": "code",
   "execution_count": null,
   "id": "5365b548",
   "metadata": {},
   "outputs": [],
   "source": [
    "\n",
    "data = {1: {'name': 'ram', 'age': 33, 'addr': {'per':'Jhapa','temp':'Kathmandu'}},\n",
    "        2: {'name': 'hari', 'age': 44, 'addr':{'per':'Jhapa','temp':'Ktm'}}}\n"
   ]
  },
  {
   "cell_type": "code",
   "execution_count": 20,
   "id": "9fe8bdc0",
   "metadata": {},
   "outputs": [
    {
     "data": {
      "text/plain": [
       "{('Ram', 'Aaa'): 9800000000, ('hari', 'sita'): 98000000000}"
      ]
     },
     "execution_count": 20,
     "metadata": {},
     "output_type": "execute_result"
    }
   ],
   "source": [
    "d = {('Ram','Aaa'):9800000000,('hari','sita'):98000000000}\n",
    "d\n"
   ]
  },
  {
   "cell_type": "code",
   "execution_count": null,
   "id": "f9c43d5a",
   "metadata": {},
   "outputs": [],
   "source": []
  }
 ],
 "metadata": {
  "kernelspec": {
   "display_name": "Python 3 (ipykernel)",
   "language": "python",
   "name": "python3"
  },
  "language_info": {
   "codemirror_mode": {
    "name": "ipython",
    "version": 3
   },
   "file_extension": ".py",
   "mimetype": "text/x-python",
   "name": "python",
   "nbconvert_exporter": "python",
   "pygments_lexer": "ipython3",
   "version": "3.9.12"
  }
 },
 "nbformat": 4,
 "nbformat_minor": 5
}
