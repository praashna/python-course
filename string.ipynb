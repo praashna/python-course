{
 "cells": [
  {
   "cell_type": "code",
   "execution_count": 26,
   "id": "be0d232a",
   "metadata": {},
   "outputs": [
    {
     "data": {
      "text/plain": [
       "'l'"
      ]
     },
     "execution_count": 26,
     "metadata": {},
     "output_type": "execute_result"
    }
   ],
   "source": [
    "a= \"hello world\"\n",
    "a[2]"
   ]
  },
  {
   "cell_type": "code",
   "execution_count": 3,
   "id": "d17b92a1",
   "metadata": {},
   "outputs": [
    {
     "data": {
      "text/plain": [
       "'hello w'"
      ]
     },
     "execution_count": 3,
     "metadata": {},
     "output_type": "execute_result"
    }
   ],
   "source": [
    "a = \"hello world\"\n",
    "a[0:7]      #string slicing it will print from 0 to 7"
   ]
  },
  {
   "cell_type": "code",
   "execution_count": 4,
   "id": "d1e4ab01",
   "metadata": {},
   "outputs": [
    {
     "data": {
      "text/plain": [
       "'hlowr'"
      ]
     },
     "execution_count": 4,
     "metadata": {},
     "output_type": "execute_result"
    }
   ],
   "source": [
    "a= \"hello world\"\n",
    "a[0:10:2]  #2 is +2"
   ]
  },
  {
   "cell_type": "code",
   "execution_count": 12,
   "id": "94d97b2d",
   "metadata": {},
   "outputs": [
    {
     "data": {
      "text/plain": [
       "'dlrow olleh'"
      ]
     },
     "execution_count": 12,
     "metadata": {},
     "output_type": "execute_result"
    }
   ],
   "source": [
    "#to print in opposite side or reverse order\n",
    "a= \"hello world\"\n",
    "len(a)\n",
    "a[-1:0:-1] #h will be missing here so do as in next line\n",
    "a[-1: :-1]"
   ]
  },
  {
   "cell_type": "code",
   "execution_count": 14,
   "id": "5c1517f2",
   "metadata": {},
   "outputs": [
    {
     "name": "stdout",
     "output_type": "stream",
     "text": [
      "Hello I am Ram i am from ktm and i am 23\n"
     ]
    }
   ],
   "source": [
    " \n",
    "name = \"Ram\"\n",
    "age = 23\n",
    "addr = 'ktm'\n",
    "info = \"Hello I am \"+ name + \" i am from \" + addr + \" and i am \"+ str(age)\n",
    "print(info)\n",
    "\n",
    "#this will be difficult so we use string formatting"
   ]
  },
  {
   "cell_type": "code",
   "execution_count": 15,
   "id": "18598cb1",
   "metadata": {},
   "outputs": [
    {
     "name": "stdout",
     "output_type": "stream",
     "text": [
      "enter name :praashna\n",
      "age : 22\n",
      " entre addrktm\n",
      "Hello I am praashna. I am fromktm and i am22\n"
     ]
    }
   ],
   "source": [
    "name = input(\"enter name :\")\n",
    "age = int(input(\"age : \"))\n",
    "addr = input(\" entre addr\")\n",
    "\n",
    "info = f\"Hello I am {name}. I am from {addr} and i am{age}\" #f is formatting\n",
    "\n",
    "print(info)"
   ]
  },
  {
   "cell_type": "code",
   "execution_count": 19,
   "id": "afbf290d",
   "metadata": {},
   "outputs": [
    {
     "name": "stdout",
     "output_type": "stream",
     "text": [
      "enter value n 2\n",
      "enter name :app\n",
      "enter price:200\n",
      "enter quantity:2\n",
      "enter name :org\n",
      "enter price:300\n",
      "enter quantity:2\n",
      "all total : 1000\n",
      "name of prodict is app and price is 200, quantity is 2. Total is 400 \n",
      "name of prodict is org and price is 300, quantity is 2. Total is 600 \n",
      "\n"
     ]
    }
   ],
   "source": [
    "s = 0\n",
    "bill = str()\n",
    "n = int(input(\"enter value n \"))\n",
    "for i in range (n):\n",
    "    name = input(\"enter name :\")\n",
    "    price = int(input(\"enter price:\"))\n",
    "    quantity = int(input(\"enter quantity:\"))\n",
    "    total = price*quantity\n",
    "    bill = bill + f\"name of prodict is {name} and price is {price}, quantity is {quantity}. Total is {total} \\n\"\n",
    "    s = s+total\n",
    "\n",
    "print(\"all total :\",s)\n",
    "print(bill)"
   ]
  },
  {
   "cell_type": "code",
   "execution_count": 24,
   "id": "a926d498",
   "metadata": {},
   "outputs": [
    {
     "name": "stdout",
     "output_type": "stream",
     "text": [
      "There is Ram\n",
      "no\n"
     ]
    }
   ],
   "source": [
    "#search\n",
    "a = \"Ram Shyam Hari Sita Gita Ramesh\"\n",
    "if \"Ram\" in a:\n",
    "    print(\"There is Ram\")\n",
    "else:\n",
    "    print(\"no\")\n",
    "\n",
    "if \"Max\" in a:\n",
    "    print(\"There is Ram\")\n",
    "else:\n",
    "    print(\"no\")\n",
    "\n"
   ]
  },
  {
   "cell_type": "code",
   "execution_count": 8,
   "id": "aaf72357",
   "metadata": {},
   "outputs": [
    {
     "name": "stdout",
     "output_type": "stream",
     "text": [
      "Enter search value = R\n",
      "Yes, there is  r\n",
      "3\n"
     ]
    }
   ],
   "source": [
    "#count\n",
    "a = \"Ram Shyam Hari Sita Gita Ramesh\".lower()\n",
    "b = input(\"Enter search value = \").lower()\n",
    "if b in a:\n",
    "    print(\"Yes, there is \", b)\n",
    "    print(a.count(b))\n",
    "else:\n",
    "    print(\"no\")\n"
   ]
  },
  {
   "cell_type": "code",
   "execution_count": 3,
   "id": "de2502cf",
   "metadata": {},
   "outputs": [
    {
     "name": "stdout",
     "output_type": "stream",
     "text": [
      "ram shyam hari sita gita ramesh\n",
      "RAM SHYAM HARI SITA GITA RAMESH\n",
      "Ram Shyam Hari Sita Gita Ramesh\n"
     ]
    }
   ],
   "source": [
    "a = \"Ram Shyam Hari Sita Gita Ramesh\"\n",
    "print(a.lower())\n",
    "print(a.upper())\n",
    "print(a)"
   ]
  },
  {
   "cell_type": "code",
   "execution_count": 17,
   "id": "4d2ea3b3",
   "metadata": {},
   "outputs": [
    {
     "name": "stdout",
     "output_type": "stream",
     "text": [
      "enter first no = 123\n",
      "enter next no = 321\n",
      "123\n",
      "yes\n"
     ]
    }
   ],
   "source": [
    "a = input(\"enter first no = \")\n",
    "b = input(\"enter next no = \")\n",
    "print(b[::-1])\n",
    "if a == b[::-1]:\n",
    "    print(\"yes\")\n",
    "else:\n",
    "    print(\"no\")"
   ]
  },
  {
   "cell_type": "code",
   "execution_count": 23,
   "id": "11a9a490",
   "metadata": {},
   "outputs": [
    {
     "data": {
      "text/plain": [
       "'Ram10 Shyam Hari Sita Gita Ram10esh'"
      ]
     },
     "execution_count": 23,
     "metadata": {},
     "output_type": "execute_result"
    }
   ],
   "source": [
    "#replace\n",
    "a = \"Ram Shyam Hari Sita Gita Ramesh\"\n",
    "a.replace(\"Ram\", \"Ram10\")\n"
   ]
  },
  {
   "cell_type": "code",
   "execution_count": 25,
   "id": "718ac82e",
   "metadata": {},
   "outputs": [
    {
     "name": "stdout",
     "output_type": "stream",
     "text": [
      "Ram Shyam Hari Sita Gita Ramesh\n"
     ]
    }
   ],
   "source": [
    "print(a) #a.replace wont change the actual value it is immutable"
   ]
  },
  {
   "cell_type": "code",
   "execution_count": null,
   "id": "ff9c8f13",
   "metadata": {},
   "outputs": [],
   "source": []
  }
 ],
 "metadata": {
  "kernelspec": {
   "display_name": "Python 3 (ipykernel)",
   "language": "python",
   "name": "python3"
  },
  "language_info": {
   "codemirror_mode": {
    "name": "ipython",
    "version": 3
   },
   "file_extension": ".py",
   "mimetype": "text/x-python",
   "name": "python",
   "nbconvert_exporter": "python",
   "pygments_lexer": "ipython3",
   "version": "3.9.12"
  }
 },
 "nbformat": 4,
 "nbformat_minor": 5
}
