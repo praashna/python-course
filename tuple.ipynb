{
 "cells": [
  {
   "cell_type": "code",
   "execution_count": null,
   "id": "f7573d3c",
   "metadata": {},
   "outputs": [],
   "source": [
    "# tuple\n",
    "# -supports indexing\n",
    "# -ordered data type\n",
    "# -multiple and duplicate value\n",
    "# -Imutable"
   ]
  },
  {
   "cell_type": "code",
   "execution_count": 3,
   "id": "54412be0",
   "metadata": {},
   "outputs": [
    {
     "name": "stdout",
     "output_type": "stream",
     "text": [
      "<class 'tuple'>\n"
     ]
    }
   ],
   "source": [
    "t = (\"Apple\",)\n",
    "print(type(t))"
   ]
  },
  {
   "cell_type": "code",
   "execution_count": null,
   "id": "4eefd697",
   "metadata": {},
   "outputs": [],
   "source": [
    "# we cant do append() insert() extend() update del remove() pop()\n"
   ]
  },
  {
   "cell_type": "code",
   "execution_count": 4,
   "id": "c52d266f",
   "metadata": {},
   "outputs": [
    {
     "data": {
      "text/plain": [
       "('Apple', 'Ball')"
      ]
     },
     "execution_count": 4,
     "metadata": {},
     "output_type": "execute_result"
    }
   ],
   "source": [
    "a = ()\n",
    "b = (\"Apple\",)\n",
    "c = (\"Ball\",)\n",
    "d = a+b+c\n",
    "d\n"
   ]
  },
  {
   "cell_type": "code",
   "execution_count": 6,
   "id": "a74d1e96",
   "metadata": {},
   "outputs": [
    {
     "name": "stdout",
     "output_type": "stream",
     "text": [
      "Enter n = 2\n",
      "Enter x = 32\n",
      "Enter x = 422\n",
      "(32, 422)\n"
     ]
    }
   ],
   "source": [
    "n = int(input(\"Enter n = \"))\n",
    "l = ()\n",
    "for i in range(n):\n",
    "    x = int(input(\"Enter x = \"))\n",
    "    l = l+(x,)\n",
    "\n",
    "print(l)"
   ]
  },
  {
   "cell_type": "code",
   "execution_count": 1,
   "id": "8fc0dcce",
   "metadata": {},
   "outputs": [
    {
     "data": {
      "text/plain": [
       "(123, 134, 543, 666, 777)"
      ]
     },
     "execution_count": 1,
     "metadata": {},
     "output_type": "execute_result"
    }
   ],
   "source": [
    "a = 123,134,543,666,777,\n",
    "a"
   ]
  },
  {
   "cell_type": "markdown",
   "id": "89b80eef",
   "metadata": {},
   "source": []
  },
  {
   "cell_type": "code",
   "execution_count": 2,
   "id": "732362ef",
   "metadata": {},
   "outputs": [
    {
     "data": {
      "text/plain": [
       "[123, 134, 543, 666, 777]"
      ]
     },
     "execution_count": 2,
     "metadata": {},
     "output_type": "execute_result"
    }
   ],
   "source": [
    "a = (123, 134, 543, 666, 777)\n",
    "b = list(a)\n",
    "b"
   ]
  },
  {
   "cell_type": "code",
   "execution_count": 7,
   "id": "76466e66",
   "metadata": {},
   "outputs": [
    {
     "name": "stdout",
     "output_type": "stream",
     "text": [
      "[134, 543, 666, 777]\n"
     ]
    }
   ],
   "source": [
    "a = (123, 134, 543, 666, 777)\n",
    "b = list(a)\n",
    "# b.remove(b[0])\n",
    "del b[0]\n",
    "print(b)"
   ]
  },
  {
   "cell_type": "code",
   "execution_count": null,
   "id": "e200151c",
   "metadata": {},
   "outputs": [],
   "source": []
  }
 ],
 "metadata": {
  "kernelspec": {
   "display_name": "Python 3 (ipykernel)",
   "language": "python",
   "name": "python3"
  },
  "language_info": {
   "codemirror_mode": {
    "name": "ipython",
    "version": 3
   },
   "file_extension": ".py",
   "mimetype": "text/x-python",
   "name": "python",
   "nbconvert_exporter": "python",
   "pygments_lexer": "ipython3",
   "version": "3.9.12"
  }
 },
 "nbformat": 4,
 "nbformat_minor": 5
}
