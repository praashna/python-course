{
 "cells": [
  {
   "cell_type": "code",
   "execution_count": null,
   "id": "24a4a86b",
   "metadata": {},
   "outputs": [],
   "source": [
    "# # python collection\n",
    "# list\n",
    "# tupple \n",
    "# dict \n",
    "# set"
   ]
  },
  {
   "cell_type": "code",
   "execution_count": null,
   "id": "93ba3144",
   "metadata": {},
   "outputs": [],
   "source": []
  },
  {
   "cell_type": "code",
   "execution_count": null,
   "id": "dd850712",
   "metadata": {},
   "outputs": [],
   "source": [
    "# list\n",
    "# -supports indexing\n",
    "# -ordered data type\n",
    "# -multiple and duplicate value\n",
    "# -mutable"
   ]
  },
  {
   "cell_type": "code",
   "execution_count": 2,
   "id": "90aa9e92",
   "metadata": {},
   "outputs": [
    {
     "name": "stdout",
     "output_type": "stream",
     "text": [
      "<class 'list'>\n",
      "<class 'list'>\n",
      "['Apple', 'Ball', 'Cat']\n",
      "[1, 2, 3, 4, 5, 6, 1, 2]\n"
     ]
    }
   ],
   "source": [
    "a = [\"Apple\", \"Ball\",\"Cat\"]\n",
    "b = [1,2,3,4,5,6,1,2]\n",
    "print(type(a))\n",
    "print(type(b))\n",
    "print(a)\n",
    "print(b)"
   ]
  },
  {
   "cell_type": "code",
   "execution_count": 3,
   "id": "a4246e7d",
   "metadata": {},
   "outputs": [
    {
     "name": "stdout",
     "output_type": "stream",
     "text": [
      "Apple\n"
     ]
    }
   ],
   "source": [
    "# -supports indexing\n",
    "a = [\"Apple\", \"Ball\",\"Cat\"]\n",
    "print(a[0])"
   ]
  },
  {
   "cell_type": "code",
   "execution_count": 4,
   "id": "b42b597a",
   "metadata": {},
   "outputs": [
    {
     "name": "stdout",
     "output_type": "stream",
     "text": [
      "['Apple', 'Ball', 'Cat']\n"
     ]
    }
   ],
   "source": [
    "a = [\"Apple\", \"Ball\",\"Cat\",\"Dog\"]\n",
    "print(a[0:3])\n"
   ]
  },
  {
   "cell_type": "code",
   "execution_count": 5,
   "id": "804f26c0",
   "metadata": {},
   "outputs": [
    {
     "name": "stdout",
     "output_type": "stream",
     "text": [
      "['Apple', 'Ball', 'Cat', 1, 2, 3, 4, 5, 6, 1, 2]\n"
     ]
    }
   ],
   "source": [
    "a = [\"Apple\", \"Ball\",\"Cat\"]\n",
    "b = [1,2,3,4,5,6,1,2]\n",
    "c = a+b\n",
    "print(c)"
   ]
  },
  {
   "cell_type": "code",
   "execution_count": 7,
   "id": "a82f8efa",
   "metadata": {},
   "outputs": [
    {
     "name": "stdout",
     "output_type": "stream",
     "text": [
      "['Apple', 'Ball', 'Cat', 'Apple', 'Ball', 'Cat']\n",
      "[1, 2, 3, 4, 5, 6, 1, 2, 1, 2, 3, 4, 5, 6, 1, 2]\n"
     ]
    }
   ],
   "source": [
    "# list enlargement\n",
    "a = [\"Apple\", \"Ball\",\"Cat\"]\n",
    "print(a*2)\n",
    "b = [1,2,3,4,5,6,1,2]\n",
    "print(2*b)"
   ]
  },
  {
   "cell_type": "code",
   "execution_count": 15,
   "id": "1ac596dc",
   "metadata": {},
   "outputs": [
    {
     "name": "stdout",
     "output_type": "stream",
     "text": [
      "Enter n = 5\n",
      "Enter x = 12\n",
      "Enter x = 345\n",
      "Enter x = 7655\n",
      "Enter x = 89\n",
      "Enter x = 6\n",
      "[12, 345, 7655, 89, 6]\n"
     ]
    }
   ],
   "source": [
    "# userdefined list\n",
    "# concatination of lits\n",
    "\n",
    "n = int(input(\"Enter n = \"))\n",
    "l = []\n",
    "for i in range(n):\n",
    "    x = int(input(\"Enter x = \"))\n",
    "    l = l+[x]\n",
    "\n",
    "print(l)"
   ]
  },
  {
   "cell_type": "code",
   "execution_count": 16,
   "id": "e96fbe22",
   "metadata": {},
   "outputs": [
    {
     "name": "stdout",
     "output_type": "stream",
     "text": [
      "The max value =  7655\n",
      "The min value =  6\n",
      "The sum of list l =  8107\n"
     ]
    }
   ],
   "source": [
    "print(\"The max value = \", max(l))\n",
    "print(\"The min value = \", min(l))\n",
    "print(\"The sum of list l = \", sum(l))\n"
   ]
  },
  {
   "cell_type": "code",
   "execution_count": 18,
   "id": "9669fe8f",
   "metadata": {},
   "outputs": [
    {
     "name": "stdout",
     "output_type": "stream",
     "text": [
      "[6, 12, 89, 345, 7655]\n",
      "[7655, 345, 89, 12, 6]\n"
     ]
    }
   ],
   "source": [
    "# list is a mutable datatype\n",
    "l.sort()\n",
    "print(l)\n",
    "l.reverse() #to make in decending order first sort then reverse\n",
    "print(l)"
   ]
  },
  {
   "cell_type": "code",
   "execution_count": 21,
   "id": "84bca08f",
   "metadata": {},
   "outputs": [
    {
     "name": "stdout",
     "output_type": "stream",
     "text": [
      "['Apple', 'Book', 'Dog', 'cat']\n",
      "['cat', 'Dog', 'Book', 'Apple']\n"
     ]
    }
   ],
   "source": [
    "a = [\"Apple\",\"cat\",\"Book\",\"Dog\"]\n",
    "a.sort() #Capital letter will come first\n",
    "print(a)\n",
    "a.reverse()\n",
    "print(a)"
   ]
  },
  {
   "cell_type": "code",
   "execution_count": 22,
   "id": "10dc7690",
   "metadata": {},
   "outputs": [
    {
     "name": "stdout",
     "output_type": "stream",
     "text": [
      "Apple\n",
      "cat\n",
      "Book\n",
      "Dog\n"
     ]
    }
   ],
   "source": [
    "a = [\"Apple\",\"cat\",\"Book\",\"Dog\"]\n",
    "for i in a:\n",
    "    print(i)"
   ]
  },
  {
   "cell_type": "code",
   "execution_count": 28,
   "id": "8505df29",
   "metadata": {},
   "outputs": [
    {
     "name": "stdout",
     "output_type": "stream",
     "text": [
      "4\n",
      "Yes 1\n"
     ]
    }
   ],
   "source": [
    "a = [\"Ram\",\"Shyam\",\"Hari\",\"Ramesh\"]\n",
    "print(len(a))\n",
    "if \"Ram\" in a:\n",
    "    print(\"Yes\", a.count(\"Ram\"))\n",
    "else:\n",
    "    print(\"No\")\n",
    "    \n",
    "# counts individually so only 1 "
   ]
  },
  {
   "cell_type": "code",
   "execution_count": null,
   "id": "02709b09",
   "metadata": {},
   "outputs": [],
   "source": [
    "# # write list\n",
    "# append(), insert(), extend()\n",
    "# ///\n",
    "# del, remove(), pop()"
   ]
  },
  {
   "cell_type": "code",
   "execution_count": 30,
   "id": "898f906e",
   "metadata": {},
   "outputs": [
    {
     "data": {
      "text/plain": [
       "['Ram', 'Shyam', 'Hari', 'Ramesh', 'Sita']"
      ]
     },
     "execution_count": 30,
     "metadata": {},
     "output_type": "execute_result"
    }
   ],
   "source": [
    "# append() : add value at last\n",
    "a = [\"Ram\",\"Shyam\",\"Hari\",\"Ramesh\"]\n",
    "a.append(\"Sita\")\n",
    "a"
   ]
  },
  {
   "cell_type": "code",
   "execution_count": 31,
   "id": "22366e03",
   "metadata": {},
   "outputs": [
    {
     "data": {
      "text/plain": [
       "['Ram', 'Sita', 'Shyam', 'Hari', 'Ramesh']"
      ]
     },
     "execution_count": 31,
     "metadata": {},
     "output_type": "execute_result"
    }
   ],
   "source": [
    "# insert() : add value in desired place by giving index\n",
    "a = [\"Ram\",\"Shyam\",\"Hari\",\"Ramesh\"]\n",
    "a.insert(1,\"Sita\")\n",
    "a"
   ]
  },
  {
   "cell_type": "code",
   "execution_count": 32,
   "id": "b98e16e7",
   "metadata": {},
   "outputs": [
    {
     "name": "stdout",
     "output_type": "stream",
     "text": [
      "['Apple', 'Ball', 'Cat', 1, 2, 3, 4, 5, 6, 1, 2]\n"
     ]
    }
   ],
   "source": [
    "# extend : to place the value of one list in another one \n",
    "a = [\"Apple\", \"Ball\",\"Cat\"]\n",
    "b = [1,2,3,4,5,6,1,2]\n",
    "a.extend(b)\n",
    "print(a)"
   ]
  },
  {
   "cell_type": "code",
   "execution_count": 34,
   "id": "fbd41ab6",
   "metadata": {},
   "outputs": [
    {
     "name": "stdout",
     "output_type": "stream",
     "text": [
      "Enter n = 3\n",
      "Enter x = 344\n",
      "Enter x = 555\n",
      "Enter x = 333\n",
      "[344, 555, 333]\n"
     ]
    }
   ],
   "source": [
    "# extend\n",
    "\n",
    "n = int(input(\"Enter n = \"))\n",
    "l = []\n",
    "for i in range(n):\n",
    "    x = int(input(\"Enter x = \"))\n",
    "    # l = l+[x]\n",
    "    l.append(x)\n",
    "\n",
    "print(l)"
   ]
  },
  {
   "cell_type": "code",
   "execution_count": 38,
   "id": "079d793f",
   "metadata": {},
   "outputs": [
    {
     "data": {
      "text/plain": [
       "['Shyam', 'Hari', 'Ramesh']"
      ]
     },
     "execution_count": 38,
     "metadata": {},
     "output_type": "execute_result"
    }
   ],
   "source": [
    "# del : to remove by using del giving <<<index>>>\n",
    "a = [\"Ram\",\"Shyam\",\"Hari\",\"Ramesh\"]\n",
    "del a[0]\n",
    "a\n"
   ]
  },
  {
   "cell_type": "code",
   "execution_count": 41,
   "id": "c7f3bbe0",
   "metadata": {},
   "outputs": [
    {
     "name": "stdout",
     "output_type": "stream",
     "text": [
      "['Ram', 'Shyam', 'Ramesh']\n"
     ]
    }
   ],
   "source": [
    "# remove() : to delete by <<<value>>>\n",
    "a = [\"Ram\",\"Shyam\",\"Hari\",\"Ramesh\"]\n",
    "a.remove(\"Hari\")\n",
    "print(a)\n"
   ]
  },
  {
   "cell_type": "code",
   "execution_count": 42,
   "id": "2647ac90",
   "metadata": {},
   "outputs": [
    {
     "name": "stdout",
     "output_type": "stream",
     "text": [
      "['Ram', 'Hari', 'Ramesh']\n",
      "Shyam\n"
     ]
    }
   ],
   "source": [
    "# pop() : remove value form a and place it in b\n",
    "a = [\"Ram\",\"Shyam\",\"Hari\",\"Ramesh\"]\n",
    "b = a.pop(1)\n",
    "print(a)\n",
    "print(b)\n"
   ]
  },
  {
   "cell_type": "code",
   "execution_count": 44,
   "id": "c36adc1b",
   "metadata": {},
   "outputs": [
    {
     "data": {
      "text/plain": [
       "['Hari', 'Ramesh']"
      ]
     },
     "execution_count": 44,
     "metadata": {},
     "output_type": "execute_result"
    }
   ],
   "source": [
    "# to remove multiple value by using range by index\n",
    "a = [\"Ram\",\"Shyam\",\"Hari\",\"Ramesh\"]\n",
    "del a[0:2]\n",
    "a\n"
   ]
  },
  {
   "cell_type": "code",
   "execution_count": 46,
   "id": "c73ff442",
   "metadata": {},
   "outputs": [
    {
     "name": "stdout",
     "output_type": "stream",
     "text": [
      "['Shyam', 'Hari', 'Ramesh', 'Ram']\n"
     ]
    }
   ],
   "source": [
    "# remove mul value by value\n",
    "a = [\"Ram\",\"Shyam\",\"Hari\",\"Ramesh\",\"Ram\"]\n",
    "a.remove(\"Ram\")\n",
    "print(a)\n",
    "\n",
    "# this will remove only 1st Ram so >>>>"
   ]
  },
  {
   "cell_type": "code",
   "execution_count": 47,
   "id": "cc340d7a",
   "metadata": {},
   "outputs": [
    {
     "name": "stdout",
     "output_type": "stream",
     "text": [
      "['Shyam', 'Hari', 'Ramesh']\n"
     ]
    }
   ],
   "source": [
    "# >>remove mul value by value\n",
    "a = [\"Ram\",\"Shyam\",\"Hari\",\"Ramesh\",\"Ram\"]\n",
    "c = a.count(\"Ram\")\n",
    "for i in range(c):\n",
    "    a.remove(\"Ram\")\n",
    "print(a)"
   ]
  },
  {
   "cell_type": "code",
   "execution_count": 48,
   "id": "5484f1f2",
   "metadata": {},
   "outputs": [
    {
     "data": {
      "text/plain": [
       "1"
      ]
     },
     "execution_count": 48,
     "metadata": {},
     "output_type": "execute_result"
    }
   ],
   "source": [
    "# to get the index of some value \n",
    "a = [\"Ram\",\"Shyam\",\"Hari\",\"Ramesh\",\"Ram\"]\n",
    "a.index(\"Shyam\")\n",
    "\n",
    "# but if there are multiple shyam this wont work"
   ]
  },
  {
   "cell_type": "code",
   "execution_count": 49,
   "id": "279b063b",
   "metadata": {},
   "outputs": [
    {
     "name": "stdout",
     "output_type": "stream",
     "text": [
      "0 Ram\n",
      "4 Ram\n"
     ]
    }
   ],
   "source": [
    "# to get the index of multiple value\n",
    "a = [\"Ram\",\"Shyam\",\"Hari\",\"Ramesh\",\"Ram\"]\n",
    "n = len(a)\n",
    "for i in range(n):\n",
    "    if a[i] == \"Ram\":\n",
    "        print(i,a[i])"
   ]
  },
  {
   "cell_type": "code",
   "execution_count": 51,
   "id": "bfbfd93c",
   "metadata": {},
   "outputs": [
    {
     "data": {
      "text/plain": [
       "['ramaaaa', 'Shyam', 'Hari', 'Ramesh', 'Ram']"
      ]
     },
     "execution_count": 51,
     "metadata": {},
     "output_type": "execute_result"
    }
   ],
   "source": [
    "# Update\n",
    "a = [\"Ram\",\"Shyam\",\"Hari\",\"Ramesh\",\"Ram\"]\n",
    "a[0] = \"ramaaaa\"\n",
    "a"
   ]
  },
  {
   "cell_type": "code",
   "execution_count": 52,
   "id": "8e7228ba",
   "metadata": {},
   "outputs": [
    {
     "data": {
      "text/plain": [
       "['ramaaaa', 'shyaaaaaam', 'Hari', 'Ramesh', 'Ram']"
      ]
     },
     "execution_count": 52,
     "metadata": {},
     "output_type": "execute_result"
    }
   ],
   "source": [
    "# Update\n",
    "a = [\"Ram\",\"Shyam\",\"Hari\",\"Ramesh\",\"Ram\"]\n",
    "a[0:2] = [\"ramaaaa\",\"shyaaaaaam\"]\n",
    "a"
   ]
  },
  {
   "cell_type": "code",
   "execution_count": 54,
   "id": "9a084bd8",
   "metadata": {},
   "outputs": [
    {
     "data": {
      "text/plain": [
       "['Applee', 'Ball']"
      ]
     },
     "execution_count": 54,
     "metadata": {},
     "output_type": "execute_result"
    }
   ],
   "source": [
    "a = \"Applee\\nBall\"\n",
    "a.split('\\n')"
   ]
  },
  {
   "cell_type": "code",
   "execution_count": 8,
   "id": "7be4d26c",
   "metadata": {},
   "outputs": [
    {
     "name": "stdout",
     "output_type": "stream",
     "text": [
      "3\n",
      "3\n"
     ]
    }
   ],
   "source": [
    "# list inside list\n",
    "a = [[1,2,3],[4,5,6],[7,8,9]]\n",
    "\n",
    "b = [[\"Ram\",21,'KTM'],\n",
    "    [\"Shyam\",67,\"pkr\"],\n",
    "    [\"Hari\",78,\"Brt\"]]\n",
    "print(len(b))\n",
    "print(len(a))"
   ]
  },
  {
   "cell_type": "code",
   "execution_count": 10,
   "id": "2999dd08",
   "metadata": {},
   "outputs": [
    {
     "name": "stdout",
     "output_type": "stream",
     "text": [
      "['Ram', 21, 'KTM']\n"
     ]
    }
   ],
   "source": [
    "b = [[\"Ram\",21,'KTM'],\n",
    "    [\"Shyam\",67,\"pkr\"],\n",
    "    [\"Hari\",78,\"Brt\"]]\n",
    "print(b[0])"
   ]
  },
  {
   "cell_type": "code",
   "execution_count": 14,
   "id": "a6648395",
   "metadata": {},
   "outputs": [
    {
     "name": "stdout",
     "output_type": "stream",
     "text": [
      "KTM\n",
      "78\n"
     ]
    }
   ],
   "source": [
    "b = [[\"Ram\",21,'KTM'],\n",
    "    [\"Shyam\",67,\"pkr\"],\n",
    "    [\"Hari\",78,\"Brt\"]]\n",
    "print(b[0][2]) #[ROW][COLUMN]\n",
    "print(b[2][1])"
   ]
  },
  {
   "cell_type": "code",
   "execution_count": 2,
   "id": "0ba78a35",
   "metadata": {},
   "outputs": [
    {
     "data": {
      "text/plain": [
       "[['Ram', 21, 'KTM'],\n",
       " ['Shyam', 67, 'pkr'],\n",
       " ['Hari', 78, 'Brt'],\n",
       " ['Nabin', 24, 'Bara']]"
      ]
     },
     "execution_count": 2,
     "metadata": {},
     "output_type": "execute_result"
    }
   ],
   "source": [
    "# append and concatination\n",
    "b = [[\"Ram\",21,'KTM'],\n",
    "    [\"Shyam\",67,\"pkr\"],\n",
    "    [\"Hari\",78,\"Brt\"]]\n",
    "b = b + [[\"Nabin\",24,\"Bara\"]]\n",
    "b"
   ]
  },
  {
   "cell_type": "code",
   "execution_count": 6,
   "id": "9fadfe01",
   "metadata": {},
   "outputs": [
    {
     "name": "stdout",
     "output_type": "stream",
     "text": [
      "Enter n = 2\n",
      "Enter name = Ram\n",
      "Enter age = 22\n",
      "Enter addr = KTM\n",
      "Enter name = SS\n",
      "Enter age = 66\n",
      "Enter addr = PKR\n",
      "[['Ram', 22, 'KTM'], ['SS', 66, 'PKR']]\n"
     ]
    }
   ],
   "source": [
    "data = []\n",
    "n = int(input(\"Enter n = \"))\n",
    "for i in range(n):\n",
    "    name = input(\"Enter name = \")\n",
    "    age = int(input(\"Enter age = \"))\n",
    "    addr = input(\"Enter addr = \")\n",
    "    info = [name,age,addr]\n",
    "    data.append(info)\n",
    "\n",
    "print(data)"
   ]
  },
  {
   "cell_type": "code",
   "execution_count": 17,
   "id": "0ddb8386",
   "metadata": {},
   "outputs": [
    {
     "data": {
      "text/plain": [
       "[['Ram', 22, 'KTM'], ['SS', 66, 'PKR'], ['Hari', 22, 'Bara']]"
      ]
     },
     "execution_count": 17,
     "metadata": {},
     "output_type": "execute_result"
    }
   ],
   "source": [
    "x = [['Ram', 22, 'KTM'], ['SS', 66, 'PKR']]\n",
    "x.append([\"Hari\",22,\"Bara\"])\n",
    "x\n",
    "x[0]"
   ]
  },
  {
   "cell_type": "code",
   "execution_count": 15,
   "id": "1ac5d265",
   "metadata": {},
   "outputs": [
    {
     "data": {
      "text/plain": [
       "[['Ramaaaa', 22, 'Bara']]"
      ]
     },
     "execution_count": 15,
     "metadata": {},
     "output_type": "execute_result"
    }
   ],
   "source": [
    "# UPDATE\n",
    "x[0][0] = \"Ramaaaa\"\n",
    "x"
   ]
  },
  {
   "cell_type": "code",
   "execution_count": 18,
   "id": "c40d1e88",
   "metadata": {},
   "outputs": [
    {
     "data": {
      "text/plain": [
       "[['SS', 66, 'PKR'], ['Hari', 22, 'Bara']]"
      ]
     },
     "execution_count": 18,
     "metadata": {},
     "output_type": "execute_result"
    }
   ],
   "source": [
    "# delete\n",
    "del x[0]\n",
    "x"
   ]
  },
  {
   "cell_type": "code",
   "execution_count": 23,
   "id": "364ef064",
   "metadata": {},
   "outputs": [
    {
     "name": "stdout",
     "output_type": "stream",
     "text": [
      "Enter name = Ram\n",
      "['Ram', 21, 'KTM']\n"
     ]
    }
   ],
   "source": [
    "# search\n",
    "x = [[\"Ram\",21,'KTM'],[\"Shyam\",67,\"pkr\"],[\"Hari\",78,\"Brt\"]]\n",
    "search = input(\"Enter name = \")\n",
    "for i in x:\n",
    "    if search in i:\n",
    "        print(i)"
   ]
  },
  {
   "cell_type": "code",
   "execution_count": 26,
   "id": "013206d7",
   "metadata": {},
   "outputs": [
    {
     "name": "stdout",
     "output_type": "stream",
     "text": [
      "Enter name = Ram\n",
      "[['Shyam', 67, 'pkr'], ['Hari', 78, 'Brt']]\n"
     ]
    }
   ],
   "source": [
    "# remove\n",
    "x = [[\"Ram\",21,'KTM'],[\"Shyam\",67,\"pkr\"],[\"Hari\",78,\"Brt\"]]\n",
    "search = input(\"Enter name = \")\n",
    "for i in x:\n",
    "    if search in i:\n",
    "        x.remove(i)\n",
    "print(x)"
   ]
  },
  {
   "cell_type": "code",
   "execution_count": 5,
   "id": "87d00474",
   "metadata": {},
   "outputs": [
    {
     "name": "stdout",
     "output_type": "stream",
     "text": [
      "Enter name = Ram\n",
      "0\n",
      "2\n",
      "[['Ram', 21, 'KTM'], ['Shyam', 67, 'pkr'], ['Ram', 78, 'Brt']]\n"
     ]
    }
   ],
   "source": [
    "# finding index\n",
    "x = [[\"Ram\",21,'KTM'],[\"Shyam\",67,\"pkr\"],[\"Ram\",78,\"Brt\"]]\n",
    "l = len(x)\n",
    "search = input(\"Enter name = \")\n",
    "for i in range(l):\n",
    "    if search in x[i]:\n",
    "        print(i)\n",
    "        \n",
    "print(x)"
   ]
  },
  {
   "cell_type": "code",
   "execution_count": 8,
   "id": "f8257708",
   "metadata": {},
   "outputs": [
    {
     "name": "stdout",
     "output_type": "stream",
     "text": [
      "Enter name = Ram\n"
     ]
    }
   ],
   "source": [
    "# search inside the list with multiple name\n",
    "x = [[\"Ram, Rama, Ramhhsdk\",21,'KTM'],[\"Shyam\",67,\"pkr\"],[\"Hari\",78,\"Brt\"],[\"Ram\",44,\"Bara\"]]\n",
    "search = input(\"Enter name = \")\n",
    "for i in x:\n",
    "    if search in i[0]:\n",
    "        print(i)"
   ]
  },
  {
   "cell_type": "code",
   "execution_count": 22,
   "id": "78aa528b",
   "metadata": {},
   "outputs": [
    {
     "name": "stdout",
     "output_type": "stream",
     "text": [
      "['Applee 200 3 2000', 'Ball 3000 4 2000']\n",
      "['Applee', '200', '3', '2000']\n",
      "['Ball', '3000', '4', '2000']\n"
     ]
    }
   ],
   "source": [
    "# string into list\n",
    "a = \"Applee 200 3 2000\\nBall 3000 4 2000\"\n",
    "x = a.split('\\n')\n",
    "print(x)\n",
    "\n",
    "for i in x:\n",
    "    print(i.split())"
   ]
  },
  {
   "cell_type": "code",
   "execution_count": null,
   "id": "6f5723bf",
   "metadata": {},
   "outputs": [],
   "source": [
    "# string into list inside list\n",
    "\n",
    "a = \"Applee 200 3 2000\\nBall 3000 4 2000\"\n",
    "x = a.split('\\n')\n",
    "print(x)\n",
    "data = []\n",
    "for i in x:\n",
    "    y = i.split()\n",
    "    data.append(y)\n",
    "print(data)"
   ]
  },
  {
   "cell_type": "code",
   "execution_count": null,
   "id": "bf6cd616",
   "metadata": {},
   "outputs": [],
   "source": [
    "# create a matrix using row and col input from user\n",
    "\n"
   ]
  },
  {
   "cell_type": "code",
   "execution_count": 3,
   "id": "e3cb3530",
   "metadata": {},
   "outputs": [
    {
     "name": "stdout",
     "output_type": "stream",
     "text": [
      "1\n",
      "2\n",
      "3.4\n",
      "hello\n"
     ]
    }
   ],
   "source": [
    "list = [1,2,3.4,\"hello\"]\n",
    "for index in range(0,len(list)):\n",
    "    print(list[index])"
   ]
  },
  {
   "cell_type": "code",
   "execution_count": 8,
   "id": "93b88f43",
   "metadata": {},
   "outputs": [
    {
     "name": "stdout",
     "output_type": "stream",
     "text": [
      "[12, 12, 12, 12]\n"
     ]
    }
   ],
   "source": [
    "# updating the whole list\n",
    "list = [1,2,3.4,\"hello\"]\n",
    "for index in range(0,len(list)):\n",
    "    list[index]=12\n",
    "print(list)"
   ]
  },
  {
   "cell_type": "code",
   "execution_count": 9,
   "id": "c389f635",
   "metadata": {},
   "outputs": [
    {
     "name": "stdout",
     "output_type": "stream",
     "text": [
      "1\n",
      "2\n",
      "3.4\n",
      "hello\n"
     ]
    }
   ],
   "source": [
    "list = [1,2,3.4,\"hello\"]\n",
    "for item in list:\n",
    "    print(item)"
   ]
  },
  {
   "cell_type": "code",
   "execution_count": null,
   "id": "30fbf8db",
   "metadata": {},
   "outputs": [],
   "source": [
    "# create a matrix using row and col input from user\n",
    "\n",
    "matrix = []\n",
    "r = int(input(\"enter no of row\"))\n",
    "c = int(input(\"enter no of col\"))\n",
    " \n",
    "for i in range(r):\n",
    "    row =\n"
   ]
  }
 ],
 "metadata": {
  "kernelspec": {
   "display_name": "Python 3 (ipykernel)",
   "language": "python",
   "name": "python3"
  },
  "language_info": {
   "codemirror_mode": {
    "name": "ipython",
    "version": 3
   },
   "file_extension": ".py",
   "mimetype": "text/x-python",
   "name": "python",
   "nbconvert_exporter": "python",
   "pygments_lexer": "ipython3",
   "version": "3.9.12"
  }
 },
 "nbformat": 4,
 "nbformat_minor": 5
}
